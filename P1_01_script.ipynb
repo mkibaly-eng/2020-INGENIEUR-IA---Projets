{
 "cells": [
  {
   "cell_type": "code",
   "execution_count": 2,
   "metadata": {},
   "outputs": [
    {
     "name": "stdout",
     "output_type": "stream",
     "text": [
      "[\n",
      "    {\n",
      "        \"isTranslationSupported\": true,\n",
      "        \"isTransliterationSupported\": true,\n",
      "        \"language\": \"ar\",\n",
      "        \"score\": 1.0\n",
      "    }\n",
      "]\n"
     ]
    }
   ],
   "source": [
    "# This simple app uses the '/detect' resource to identify the language of\n",
    "# the provided text or texts.\n",
    "\n",
    "import os, requests, uuid, json\n",
    "\n",
    "key1_var_name     = 'COGNITIVE_SERVICE_KEY'\n",
    "key2_var_name     = 'COGNITIVE_SERVICE_REGION'\n",
    "endpoint_var_name = 'TRANSLATOR_TEXT_ENDPOINT'\n",
    "\n",
    "if not key1_var_name in os.environ:\n",
    "    raise Exception('Please set/export the environment variable 1: {}'.format(key1_var_name))\n",
    "subscription_key = os.environ[key1_var_name]\n",
    "\n",
    "if not key2_var_name in os.environ:\n",
    "    raise Exception('Please set/export the environment variable 2: {}'.format(key2_var_name))\n",
    "region_key = os.environ[key2_var_name]\n",
    "\n",
    "\n",
    "if not endpoint_var_name in os.environ:\n",
    "    raise Exception('Please set/export the environment variable 3: {}'.format(endpoint_var_name))\n",
    "endpoint = os.environ[endpoint_var_name]\n",
    "\n",
    "\n",
    "# If you encounter any issues with the base_url or path, make sure\n",
    "# that you are using the latest endpoint: https://docs.microsoft.com/azure/cognitive-services/translator/reference/v3-0-detect\n",
    "path = '/detect?api-version=3.0'\n",
    "constructed_url = endpoint + path\n",
    "\n",
    "headers = {\n",
    "    'Ocp-Apim-Subscription-Key': subscription_key,\n",
    "    'Ocp-Apim-Subscription-Region': region_key,    \n",
    "    'Content-type': 'application/json',\n",
    "    'X-ClientTraceId': str(uuid.uuid4())\n",
    "}\n",
    "\n",
    "\n",
    "# Text to translate or to detect the language.\n",
    "body = [{\n",
    "#    'text': '未幾離異。四年，撰《金石錄後序》。晚年表上《金石錄》於朝。卒年七十餘。'\n",
    "#    'text': 'El municipio de Ruth C Rural se encuentra ubicado en las coordenadas 36°38′50″N 93°20′40″O. '\n",
    "#    'text': 'He was a economics graduate from Elphinstone College, Mumbai. He was an industrialist in plastics business. He served as a president of Gujarat Chamber of Commerce and Industry in 1990s.'\n",
    "#    'text': '४३२ ईसा पूर्व ईसा मसीह के जन्म से पूर्व के वर्षों को दर्शाता है। ईसा के जन्म को अधार मानकर उसके जन्म से ४३२ ईसा'\n",
    "    'text': 'ماتياس كورفينوس. وكانت تلك المعركة آخر محاولات المجر للاستلاء على مولدافيا وضمها إلى مملكة المجر، وكانت '\n",
    "    }]\n",
    "\n",
    "\n",
    "request = requests.post(constructed_url, headers=headers, json=body)\n",
    "response = request.json()\n",
    "    \n",
    "print(json.dumps(response, sort_keys=True, indent=4, ensure_ascii=False, separators=(',', ': ')))\n",
    "    \n",
    "    \n",
    "    \n",
    "    \n",
    "    \n",
    "    \n",
    "    "
   ]
  },
  {
   "cell_type": "code",
   "execution_count": null,
   "metadata": {},
   "outputs": [],
   "source": []
  }
 ],
 "metadata": {
  "kernelspec": {
   "display_name": "Python 3",
   "language": "python",
   "name": "python3"
  },
  "language_info": {
   "codemirror_mode": {
    "name": "ipython",
    "version": 3
   },
   "file_extension": ".py",
   "mimetype": "text/x-python",
   "name": "python",
   "nbconvert_exporter": "python",
   "pygments_lexer": "ipython3",
   "version": "3.8.3"
  }
 },
 "nbformat": 4,
 "nbformat_minor": 4
}
